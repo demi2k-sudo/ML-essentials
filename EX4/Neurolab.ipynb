{
 "cells": [
  {
   "cell_type": "code",
   "execution_count": 60,
   "id": "d77e3fad",
   "metadata": {},
   "outputs": [],
   "source": [
    "import pandas as pd\n",
    "import numpy as np\n",
    "import neurolab as nl\n",
    "import matplotlib.pyplot as plt\n",
    "import seaborn as sns"
   ]
  },
  {
   "cell_type": "code",
   "execution_count": 61,
   "id": "0d127da2",
   "metadata": {},
   "outputs": [
    {
     "data": {
      "text/html": [
       "<div>\n",
       "<style scoped>\n",
       "    .dataframe tbody tr th:only-of-type {\n",
       "        vertical-align: middle;\n",
       "    }\n",
       "\n",
       "    .dataframe tbody tr th {\n",
       "        vertical-align: top;\n",
       "    }\n",
       "\n",
       "    .dataframe thead th {\n",
       "        text-align: right;\n",
       "    }\n",
       "</style>\n",
       "<table border=\"1\" class=\"dataframe\">\n",
       "  <thead>\n",
       "    <tr style=\"text-align: right;\">\n",
       "      <th></th>\n",
       "      <th>SIZE</th>\n",
       "      <th>FUEL</th>\n",
       "      <th>DISTANCE</th>\n",
       "      <th>DESIBEL</th>\n",
       "      <th>AIRFLOW</th>\n",
       "      <th>FREQUENCY</th>\n",
       "      <th>STATUS</th>\n",
       "    </tr>\n",
       "  </thead>\n",
       "  <tbody>\n",
       "    <tr>\n",
       "      <th>0</th>\n",
       "      <td>1</td>\n",
       "      <td>gasoline</td>\n",
       "      <td>10</td>\n",
       "      <td>96</td>\n",
       "      <td>0.0</td>\n",
       "      <td>75</td>\n",
       "      <td>0</td>\n",
       "    </tr>\n",
       "    <tr>\n",
       "      <th>1</th>\n",
       "      <td>1</td>\n",
       "      <td>gasoline</td>\n",
       "      <td>10</td>\n",
       "      <td>96</td>\n",
       "      <td>0.0</td>\n",
       "      <td>72</td>\n",
       "      <td>1</td>\n",
       "    </tr>\n",
       "    <tr>\n",
       "      <th>2</th>\n",
       "      <td>1</td>\n",
       "      <td>gasoline</td>\n",
       "      <td>10</td>\n",
       "      <td>96</td>\n",
       "      <td>2.6</td>\n",
       "      <td>70</td>\n",
       "      <td>1</td>\n",
       "    </tr>\n",
       "    <tr>\n",
       "      <th>3</th>\n",
       "      <td>1</td>\n",
       "      <td>gasoline</td>\n",
       "      <td>10</td>\n",
       "      <td>96</td>\n",
       "      <td>3.2</td>\n",
       "      <td>68</td>\n",
       "      <td>1</td>\n",
       "    </tr>\n",
       "    <tr>\n",
       "      <th>4</th>\n",
       "      <td>1</td>\n",
       "      <td>gasoline</td>\n",
       "      <td>10</td>\n",
       "      <td>109</td>\n",
       "      <td>4.5</td>\n",
       "      <td>67</td>\n",
       "      <td>1</td>\n",
       "    </tr>\n",
       "    <tr>\n",
       "      <th>...</th>\n",
       "      <td>...</td>\n",
       "      <td>...</td>\n",
       "      <td>...</td>\n",
       "      <td>...</td>\n",
       "      <td>...</td>\n",
       "      <td>...</td>\n",
       "      <td>...</td>\n",
       "    </tr>\n",
       "    <tr>\n",
       "      <th>17437</th>\n",
       "      <td>7</td>\n",
       "      <td>lpg</td>\n",
       "      <td>190</td>\n",
       "      <td>86</td>\n",
       "      <td>2.2</td>\n",
       "      <td>5</td>\n",
       "      <td>0</td>\n",
       "    </tr>\n",
       "    <tr>\n",
       "      <th>17438</th>\n",
       "      <td>7</td>\n",
       "      <td>lpg</td>\n",
       "      <td>190</td>\n",
       "      <td>84</td>\n",
       "      <td>2.0</td>\n",
       "      <td>4</td>\n",
       "      <td>0</td>\n",
       "    </tr>\n",
       "    <tr>\n",
       "      <th>17439</th>\n",
       "      <td>7</td>\n",
       "      <td>lpg</td>\n",
       "      <td>190</td>\n",
       "      <td>80</td>\n",
       "      <td>1.5</td>\n",
       "      <td>3</td>\n",
       "      <td>0</td>\n",
       "    </tr>\n",
       "    <tr>\n",
       "      <th>17440</th>\n",
       "      <td>7</td>\n",
       "      <td>lpg</td>\n",
       "      <td>190</td>\n",
       "      <td>76</td>\n",
       "      <td>0.4</td>\n",
       "      <td>2</td>\n",
       "      <td>0</td>\n",
       "    </tr>\n",
       "    <tr>\n",
       "      <th>17441</th>\n",
       "      <td>7</td>\n",
       "      <td>lpg</td>\n",
       "      <td>190</td>\n",
       "      <td>72</td>\n",
       "      <td>0.0</td>\n",
       "      <td>1</td>\n",
       "      <td>0</td>\n",
       "    </tr>\n",
       "  </tbody>\n",
       "</table>\n",
       "<p>17442 rows × 7 columns</p>\n",
       "</div>"
      ],
      "text/plain": [
       "       SIZE      FUEL  DISTANCE  DESIBEL  AIRFLOW  FREQUENCY  STATUS\n",
       "0         1  gasoline        10       96      0.0         75       0\n",
       "1         1  gasoline        10       96      0.0         72       1\n",
       "2         1  gasoline        10       96      2.6         70       1\n",
       "3         1  gasoline        10       96      3.2         68       1\n",
       "4         1  gasoline        10      109      4.5         67       1\n",
       "...     ...       ...       ...      ...      ...        ...     ...\n",
       "17437     7       lpg       190       86      2.2          5       0\n",
       "17438     7       lpg       190       84      2.0          4       0\n",
       "17439     7       lpg       190       80      1.5          3       0\n",
       "17440     7       lpg       190       76      0.4          2       0\n",
       "17441     7       lpg       190       72      0.0          1       0\n",
       "\n",
       "[17442 rows x 7 columns]"
      ]
     },
     "execution_count": 61,
     "metadata": {},
     "output_type": "execute_result"
    }
   ],
   "source": [
    "df = pd.read_csv('Acoustic_Extinguisher_Fire_Dataset.csv')\n",
    "df"
   ]
  },
  {
   "cell_type": "code",
   "execution_count": 62,
   "id": "6be4083f",
   "metadata": {},
   "outputs": [
    {
     "data": {
      "text/html": [
       "<div>\n",
       "<style scoped>\n",
       "    .dataframe tbody tr th:only-of-type {\n",
       "        vertical-align: middle;\n",
       "    }\n",
       "\n",
       "    .dataframe tbody tr th {\n",
       "        vertical-align: top;\n",
       "    }\n",
       "\n",
       "    .dataframe thead th {\n",
       "        text-align: right;\n",
       "    }\n",
       "</style>\n",
       "<table border=\"1\" class=\"dataframe\">\n",
       "  <thead>\n",
       "    <tr style=\"text-align: right;\">\n",
       "      <th></th>\n",
       "      <th>SIZE</th>\n",
       "      <th>FUEL</th>\n",
       "      <th>DISTANCE</th>\n",
       "      <th>DESIBEL</th>\n",
       "      <th>AIRFLOW</th>\n",
       "      <th>FREQUENCY</th>\n",
       "      <th>STATUS</th>\n",
       "    </tr>\n",
       "  </thead>\n",
       "  <tbody>\n",
       "    <tr>\n",
       "      <th>0</th>\n",
       "      <td>1</td>\n",
       "      <td>0</td>\n",
       "      <td>10</td>\n",
       "      <td>96</td>\n",
       "      <td>0.0</td>\n",
       "      <td>75</td>\n",
       "      <td>0</td>\n",
       "    </tr>\n",
       "    <tr>\n",
       "      <th>1</th>\n",
       "      <td>1</td>\n",
       "      <td>0</td>\n",
       "      <td>10</td>\n",
       "      <td>96</td>\n",
       "      <td>0.0</td>\n",
       "      <td>72</td>\n",
       "      <td>1</td>\n",
       "    </tr>\n",
       "    <tr>\n",
       "      <th>2</th>\n",
       "      <td>1</td>\n",
       "      <td>0</td>\n",
       "      <td>10</td>\n",
       "      <td>96</td>\n",
       "      <td>2.6</td>\n",
       "      <td>70</td>\n",
       "      <td>1</td>\n",
       "    </tr>\n",
       "    <tr>\n",
       "      <th>3</th>\n",
       "      <td>1</td>\n",
       "      <td>0</td>\n",
       "      <td>10</td>\n",
       "      <td>96</td>\n",
       "      <td>3.2</td>\n",
       "      <td>68</td>\n",
       "      <td>1</td>\n",
       "    </tr>\n",
       "    <tr>\n",
       "      <th>4</th>\n",
       "      <td>1</td>\n",
       "      <td>0</td>\n",
       "      <td>10</td>\n",
       "      <td>109</td>\n",
       "      <td>4.5</td>\n",
       "      <td>67</td>\n",
       "      <td>1</td>\n",
       "    </tr>\n",
       "    <tr>\n",
       "      <th>...</th>\n",
       "      <td>...</td>\n",
       "      <td>...</td>\n",
       "      <td>...</td>\n",
       "      <td>...</td>\n",
       "      <td>...</td>\n",
       "      <td>...</td>\n",
       "      <td>...</td>\n",
       "    </tr>\n",
       "    <tr>\n",
       "      <th>17437</th>\n",
       "      <td>7</td>\n",
       "      <td>2</td>\n",
       "      <td>190</td>\n",
       "      <td>86</td>\n",
       "      <td>2.2</td>\n",
       "      <td>5</td>\n",
       "      <td>0</td>\n",
       "    </tr>\n",
       "    <tr>\n",
       "      <th>17438</th>\n",
       "      <td>7</td>\n",
       "      <td>2</td>\n",
       "      <td>190</td>\n",
       "      <td>84</td>\n",
       "      <td>2.0</td>\n",
       "      <td>4</td>\n",
       "      <td>0</td>\n",
       "    </tr>\n",
       "    <tr>\n",
       "      <th>17439</th>\n",
       "      <td>7</td>\n",
       "      <td>2</td>\n",
       "      <td>190</td>\n",
       "      <td>80</td>\n",
       "      <td>1.5</td>\n",
       "      <td>3</td>\n",
       "      <td>0</td>\n",
       "    </tr>\n",
       "    <tr>\n",
       "      <th>17440</th>\n",
       "      <td>7</td>\n",
       "      <td>2</td>\n",
       "      <td>190</td>\n",
       "      <td>76</td>\n",
       "      <td>0.4</td>\n",
       "      <td>2</td>\n",
       "      <td>0</td>\n",
       "    </tr>\n",
       "    <tr>\n",
       "      <th>17441</th>\n",
       "      <td>7</td>\n",
       "      <td>2</td>\n",
       "      <td>190</td>\n",
       "      <td>72</td>\n",
       "      <td>0.0</td>\n",
       "      <td>1</td>\n",
       "      <td>0</td>\n",
       "    </tr>\n",
       "  </tbody>\n",
       "</table>\n",
       "<p>17442 rows × 7 columns</p>\n",
       "</div>"
      ],
      "text/plain": [
       "       SIZE  FUEL  DISTANCE  DESIBEL  AIRFLOW  FREQUENCY  STATUS\n",
       "0         1     0        10       96      0.0         75       0\n",
       "1         1     0        10       96      0.0         72       1\n",
       "2         1     0        10       96      2.6         70       1\n",
       "3         1     0        10       96      3.2         68       1\n",
       "4         1     0        10      109      4.5         67       1\n",
       "...     ...   ...       ...      ...      ...        ...     ...\n",
       "17437     7     2       190       86      2.2          5       0\n",
       "17438     7     2       190       84      2.0          4       0\n",
       "17439     7     2       190       80      1.5          3       0\n",
       "17440     7     2       190       76      0.4          2       0\n",
       "17441     7     2       190       72      0.0          1       0\n",
       "\n",
       "[17442 rows x 7 columns]"
      ]
     },
     "execution_count": 62,
     "metadata": {},
     "output_type": "execute_result"
    }
   ],
   "source": [
    "from sklearn.preprocessing import LabelEncoder\n",
    "encoder = LabelEncoder()\n",
    "\n",
    "df['FUEL'] = encoder.fit_transform(df['FUEL'])\n",
    "df"
   ]
  },
  {
   "cell_type": "code",
   "execution_count": 63,
   "id": "f02a2ebf",
   "metadata": {},
   "outputs": [
    {
     "data": {
      "text/plain": [
       "(1, 75)"
      ]
     },
     "execution_count": 63,
     "metadata": {},
     "output_type": "execute_result"
    }
   ],
   "source": [
    "min(list(np.array(df['FREQUENCY']))),max(list(np.array(df['FREQUENCY'])))"
   ]
  },
  {
   "cell_type": "code",
   "execution_count": 64,
   "id": "a296692d",
   "metadata": {},
   "outputs": [
    {
     "data": {
      "text/plain": [
       "[(1, 7), (0, 3), (10, 190), (72, 113), (0.0, 17.0), (1, 75), (0, 1)]"
      ]
     },
     "execution_count": 64,
     "metadata": {},
     "output_type": "execute_result"
    }
   ],
   "source": [
    "def min_max_features(df):\n",
    "    cols = df.columns\n",
    "    min_vals,max_vals=[],[]\n",
    "    for i in range(len(cols)):\n",
    "        min_vals.append(min(list(np.array(df[cols[i]]))))\n",
    "        max_vals.append(max(list(np.array(df[cols[i]]))))\n",
    "    return min_vals,max_vals\n",
    "mini,maxi = min_max_features(df)\n",
    "list(zip(mini,maxi))"
   ]
  },
  {
   "cell_type": "code",
   "execution_count": 65,
   "id": "e431e2dc",
   "metadata": {},
   "outputs": [
    {
     "data": {
      "text/plain": [
       "[(1, 7), (0, 3), (10, 190), (72, 113), (0.0, 17.0), (1, 75)]"
      ]
     },
     "execution_count": 65,
     "metadata": {},
     "output_type": "execute_result"
    }
   ],
   "source": [
    "inputs = list(zip(mini,maxi))[:-1]\n",
    "inputs"
   ]
  },
  {
   "cell_type": "code",
   "execution_count": 66,
   "id": "2f356650",
   "metadata": {},
   "outputs": [
    {
     "data": {
      "text/plain": [
       "[[1, 7], [0, 3], [10, 190], [72, 113], [0.0, 17.0], [1, 75]]"
      ]
     },
     "execution_count": 66,
     "metadata": {},
     "output_type": "execute_result"
    }
   ],
   "source": [
    "input_list=[]\n",
    "for i in inputs:\n",
    "    input_list.append(list(i))\n",
    "input_list"
   ]
  },
  {
   "cell_type": "code",
   "execution_count": 67,
   "id": "35549076",
   "metadata": {},
   "outputs": [],
   "source": [
    "error = []\n",
    "net = nl.net.newp(input_list,1)"
   ]
  },
  {
   "cell_type": "code",
   "execution_count": 68,
   "id": "c44030a0",
   "metadata": {},
   "outputs": [],
   "source": [
    "net.trainf = nl.train.train_rprop"
   ]
  },
  {
   "cell_type": "code",
   "execution_count": 69,
   "id": "67196380",
   "metadata": {},
   "outputs": [],
   "source": [
    "X = np.array(df.iloc[:,:6])\n",
    "Y = np.array(df.iloc[:,6:7])\n"
   ]
  },
  {
   "cell_type": "code",
   "execution_count": 72,
   "id": "1c73d384",
   "metadata": {
    "scrolled": true
   },
   "outputs": [
    {
     "name": "stdout",
     "output_type": "stream",
     "text": [
      "Epoch: 1; Error: 4341.5;\n",
      "Epoch: 2; Error: 4341.5;\n",
      "Epoch: 3; Error: 4341.5;\n",
      "Epoch: 4; Error: 4341.5;\n",
      "Epoch: 5; Error: 4341.5;\n",
      "Epoch: 6; Error: 4341.5;\n",
      "Epoch: 7; Error: 4341.5;\n",
      "Epoch: 8; Error: 4341.5;\n",
      "Epoch: 9; Error: 4341.5;\n",
      "Epoch: 10; Error: 4341.5;\n",
      "Epoch: 11; Error: 4341.5;\n",
      "Epoch: 12; Error: 4341.5;\n",
      "Epoch: 13; Error: 4341.5;\n",
      "Epoch: 14; Error: 4341.5;\n",
      "Epoch: 15; Error: 4341.5;\n",
      "Epoch: 16; Error: 4341.5;\n",
      "Epoch: 17; Error: 4341.5;\n",
      "Epoch: 18; Error: 4341.5;\n",
      "Epoch: 19; Error: 4341.5;\n",
      "Epoch: 20; Error: 4341.5;\n",
      "Epoch: 21; Error: 4341.5;\n",
      "Epoch: 22; Error: 4341.5;\n",
      "Epoch: 23; Error: 4341.5;\n",
      "Epoch: 24; Error: 4341.5;\n",
      "Epoch: 25; Error: 4341.5;\n",
      "Epoch: 26; Error: 4341.5;\n",
      "Epoch: 27; Error: 4341.5;\n",
      "Epoch: 28; Error: 4341.5;\n",
      "Epoch: 29; Error: 4341.5;\n",
      "Epoch: 30; Error: 4341.5;\n",
      "Epoch: 31; Error: 4341.5;\n",
      "Epoch: 32; Error: 4341.5;\n",
      "Epoch: 33; Error: 4341.5;\n",
      "Epoch: 34; Error: 4341.5;\n",
      "Epoch: 35; Error: 4341.5;\n",
      "Epoch: 36; Error: 4341.5;\n",
      "Epoch: 37; Error: 4341.5;\n",
      "Epoch: 38; Error: 4341.5;\n",
      "Epoch: 39; Error: 4341.5;\n",
      "Epoch: 40; Error: 4341.5;\n",
      "Epoch: 41; Error: 4341.5;\n",
      "Epoch: 42; Error: 4341.5;\n",
      "Epoch: 43; Error: 4341.5;\n",
      "Epoch: 44; Error: 4341.5;\n",
      "Epoch: 45; Error: 4341.5;\n",
      "Epoch: 46; Error: 4341.5;\n",
      "Epoch: 47; Error: 4341.5;\n",
      "Epoch: 48; Error: 4341.5;\n",
      "Epoch: 49; Error: 4341.5;\n",
      "Epoch: 50; Error: 4341.5;\n",
      "Epoch: 51; Error: 4341.5;\n",
      "Epoch: 52; Error: 4341.5;\n",
      "Epoch: 53; Error: 4341.5;\n",
      "Epoch: 54; Error: 4341.5;\n",
      "Epoch: 55; Error: 4341.5;\n",
      "Epoch: 56; Error: 4341.5;\n",
      "Epoch: 57; Error: 4341.5;\n",
      "Epoch: 58; Error: 4341.5;\n",
      "Epoch: 59; Error: 4341.5;\n",
      "Epoch: 60; Error: 4341.5;\n",
      "Epoch: 61; Error: 4341.5;\n",
      "Epoch: 62; Error: 4341.5;\n",
      "Epoch: 63; Error: 4341.5;\n",
      "Epoch: 64; Error: 4341.5;\n",
      "Epoch: 65; Error: 4341.5;\n",
      "Epoch: 66; Error: 4341.5;\n",
      "Epoch: 67; Error: 4341.5;\n",
      "Epoch: 68; Error: 4341.5;\n",
      "Epoch: 69; Error: 4341.5;\n",
      "Epoch: 70; Error: 4341.5;\n",
      "Epoch: 71; Error: 4341.5;\n",
      "Epoch: 72; Error: 4341.5;\n",
      "Epoch: 73; Error: 4341.5;\n",
      "Epoch: 74; Error: 4341.5;\n",
      "Epoch: 75; Error: 4341.5;\n",
      "Epoch: 76; Error: 4341.5;\n",
      "Epoch: 77; Error: 4341.5;\n",
      "Epoch: 78; Error: 4341.5;\n",
      "Epoch: 79; Error: 4341.5;\n",
      "Epoch: 80; Error: 4341.5;\n",
      "Epoch: 81; Error: 4341.5;\n",
      "Epoch: 82; Error: 4341.5;\n",
      "Epoch: 83; Error: 4341.5;\n",
      "Epoch: 84; Error: 4341.5;\n",
      "Epoch: 85; Error: 4341.5;\n",
      "Epoch: 86; Error: 4341.5;\n",
      "Epoch: 87; Error: 4341.5;\n",
      "Epoch: 88; Error: 4341.5;\n",
      "Epoch: 89; Error: 4341.5;\n",
      "Epoch: 90; Error: 4341.5;\n",
      "Epoch: 91; Error: 4341.5;\n",
      "Epoch: 92; Error: 4341.5;\n",
      "Epoch: 93; Error: 4341.5;\n",
      "Epoch: 94; Error: 4341.5;\n",
      "Epoch: 95; Error: 4341.5;\n",
      "Epoch: 96; Error: 4341.5;\n",
      "Epoch: 97; Error: 4341.5;\n",
      "Epoch: 98; Error: 4341.5;\n",
      "Epoch: 99; Error: 4341.5;\n",
      "Epoch: 100; Error: 4341.5;\n",
      "The maximum number of train epochs is reached\n"
     ]
    }
   ],
   "source": [
    "error.append(net.train(X,Y,show=1,epochs=100))"
   ]
  },
  {
   "cell_type": "code",
   "execution_count": 73,
   "id": "e1e43c65",
   "metadata": {},
   "outputs": [
    {
     "data": {
      "image/png": "[encoded data removed]",
      "text/plain": [
       "<Figure size 640x480 with 1 Axes>"
      ]
     },
     "metadata": {},
     "output_type": "display_data"
    }
   ],
   "source": [
    "plt.plot(range(1,101),error[0])\n",
    "plt.title('Error rate wrt Epochs')\n",
    "plt.xlabel('Epochs')\n",
    "plt.ylabel('Error')\n",
    "plt.show()"
   ]
  },
  {
   "cell_type": "code",
   "execution_count": 74,
   "id": "d8010346",
   "metadata": {},
   "outputs": [
    {
     "name": "stdout",
     "output_type": "stream",
     "text": [
      "Accuracy : 50.22 %\n"
     ]
    }
   ],
   "source": [
    "predicted_values = net.sim(X)     \n",
    "\n",
    "predicted_class=predicted_values\n",
    "predicted_class[predicted_values>0.5]=1\n",
    "predicted_class[predicted_values<=0.5]=0\n",
    "\n",
    "from sklearn.metrics import accuracy_score\n",
    "accuracy=accuracy_score(Y,predicted_class)\n",
    "print(f'Accuracy : {accuracy*100:.2f} %' )"
   ]
  },
  {
   "cell_type": "code",
   "execution_count": 75,
   "id": "137b3511",
   "metadata": {},
   "outputs": [
    {
     "data": {
      "image/png": "[encoded data removed]",
      "text/plain": [
       "<Figure size 640x480 with 2 Axes>"
      ]
     },
     "metadata": {},
     "output_type": "display_data"
    }
   ],
   "source": [
    "from sklearn.metrics import confusion_matrix\n",
    "cm = confusion_matrix(Y,predicted_class)\n",
    "sns.heatmap(cm,\n",
    "            annot=True,\n",
    "            xticklabels=['YES','NO'],\n",
    "            yticklabels=['YES','NO'])\n",
    "plt.ylabel('Prediction',fontsize=13)\n",
    "plt.xlabel('Actual',fontsize=13)\n",
    "plt.title('Confusion Matrix',fontsize=17)\n",
    "plt.show()"
   ]
  },
  {
   "cell_type": "code",
   "execution_count": 76,
   "id": "4095bfe9",
   "metadata": {},
   "outputs": [],
   "source": [
    "# Feed forward\n",
    "error = []\n",
    "net = nl.net.newff(input_list,[6,1])"
   ]
  },
  {
   "cell_type": "code",
   "execution_count": 77,
   "id": "f5e720d9",
   "metadata": {},
   "outputs": [],
   "source": [
    "net.trainf = nl.train.train_rprop\n"
   ]
  },
  {
   "cell_type": "code",
   "execution_count": 78,
   "id": "d5ae1b0d",
   "metadata": {},
   "outputs": [],
   "source": [
    "X = np.array(df.iloc[:,:6])\n",
    "Y = np.array(df.iloc[:,6:7])\n",
    "\n"
   ]
  },
  {
   "cell_type": "code",
   "execution_count": 79,
   "id": "da4b2449",
   "metadata": {
    "scrolled": true
   },
   "outputs": [
    {
     "name": "stdout",
     "output_type": "stream",
     "text": [
      "Epoch: 1; Error: 21339.407821447832;\n",
      "Epoch: 2; Error: 4314.287717156217;\n",
      "Epoch: 3; Error: 5405.120837615816;\n",
      "Epoch: 4; Error: 2965.587787712996;\n",
      "Epoch: 5; Error: 2233.294173804983;\n",
      "Epoch: 6; Error: 2193.3837101650834;\n",
      "Epoch: 7; Error: 2443.7138254992046;\n",
      "Epoch: 8; Error: 1761.2792286332194;\n",
      "Epoch: 9; Error: 1619.8348026344186;\n",
      "Epoch: 10; Error: 2155.9955139647004;\n",
      "Epoch: 11; Error: 1225.8280295481038;\n",
      "Epoch: 12; Error: 1396.7860915057097;\n",
      "Epoch: 13; Error: 6916.089629882678;\n",
      "Epoch: 14; Error: 2506.1011598569257;\n",
      "Epoch: 15; Error: 1397.9172066821689;\n",
      "Epoch: 16; Error: 1203.9504739770337;\n",
      "Epoch: 17; Error: 1105.9256716541884;\n",
      "Epoch: 18; Error: 1172.489303387782;\n",
      "Epoch: 19; Error: 1048.8072151223123;\n",
      "Epoch: 20; Error: 1026.7828815891953;\n",
      "Epoch: 21; Error: 971.5974351924671;\n",
      "Epoch: 22; Error: 924.6131106956366;\n",
      "Epoch: 23; Error: 889.3727307445873;\n",
      "Epoch: 24; Error: 865.9486506801426;\n",
      "Epoch: 25; Error: 849.9209774240045;\n",
      "Epoch: 26; Error: 831.2280181602182;\n",
      "Epoch: 27; Error: 815.0801791141769;\n",
      "Epoch: 28; Error: 801.9877191501056;\n",
      "Epoch: 29; Error: 788.9238117988513;\n",
      "Epoch: 30; Error: 775.619369829198;\n",
      "Epoch: 31; Error: 764.8000305298132;\n",
      "Epoch: 32; Error: 754.5242866262747;\n",
      "Epoch: 33; Error: 746.0090962559591;\n",
      "Epoch: 34; Error: 739.4944485910299;\n",
      "Epoch: 35; Error: 735.5986368645433;\n",
      "Epoch: 36; Error: 734.3591662702712;\n",
      "Epoch: 37; Error: 727.7368314309691;\n",
      "Epoch: 38; Error: 724.2292492066296;\n",
      "Epoch: 39; Error: 719.014603484154;\n",
      "Epoch: 40; Error: 713.5276634133705;\n",
      "Epoch: 41; Error: 707.56762324463;\n",
      "Epoch: 42; Error: 701.2832775206364;\n",
      "Epoch: 43; Error: 694.9315445021425;\n",
      "Epoch: 44; Error: 689.2304720857873;\n",
      "Epoch: 45; Error: 685.3509709588415;\n",
      "Epoch: 46; Error: 680.4145033792275;\n",
      "Epoch: 47; Error: 676.714355833927;\n",
      "Epoch: 48; Error: 673.119175587698;\n",
      "Epoch: 49; Error: 670.2013562694277;\n",
      "Epoch: 50; Error: 668.9134753770227;\n",
      "Epoch: 51; Error: 666.9441883787491;\n",
      "Epoch: 52; Error: 664.931643864978;\n",
      "Epoch: 53; Error: 663.8661751500626;\n",
      "Epoch: 54; Error: 662.2880195347342;\n",
      "Epoch: 55; Error: 660.7884189494708;\n",
      "Epoch: 56; Error: 659.3557371846787;\n",
      "Epoch: 57; Error: 657.7462335803573;\n",
      "Epoch: 58; Error: 655.9653247311237;\n",
      "Epoch: 59; Error: 653.8193799473187;\n",
      "Epoch: 60; Error: 651.3690511075781;\n",
      "Epoch: 61; Error: 648.8392994075425;\n",
      "Epoch: 62; Error: 646.2851309364013;\n",
      "Epoch: 63; Error: 644.1834588565218;\n",
      "Epoch: 64; Error: 643.233409783008;\n",
      "Epoch: 65; Error: 642.0382918115843;\n",
      "Epoch: 66; Error: 640.8879865450449;\n",
      "Epoch: 67; Error: 639.7523686295216;\n",
      "Epoch: 68; Error: 638.5781481952336;\n",
      "Epoch: 69; Error: 637.2299984330773;\n",
      "Epoch: 70; Error: 635.7751904577522;\n",
      "Epoch: 71; Error: 634.2838944919997;\n",
      "Epoch: 72; Error: 632.5885899129867;\n",
      "Epoch: 73; Error: 630.8653815845358;\n",
      "Epoch: 74; Error: 629.4646472910833;\n",
      "Epoch: 75; Error: 628.3517045949663;\n",
      "Epoch: 76; Error: 627.5713843697902;\n",
      "Epoch: 77; Error: 626.4733547214207;\n",
      "Epoch: 78; Error: 625.3196266565832;\n",
      "Epoch: 79; Error: 624.0680926429278;\n",
      "Epoch: 80; Error: 622.7771973710252;\n",
      "Epoch: 81; Error: 621.8381656825484;\n",
      "Epoch: 82; Error: 621.0981337694625;\n",
      "Epoch: 83; Error: 619.9328608634197;\n",
      "Epoch: 84; Error: 618.9765438032382;\n",
      "Epoch: 85; Error: 617.6387741342389;\n",
      "Epoch: 86; Error: 616.4982291532033;\n",
      "Epoch: 87; Error: 615.1572216274876;\n",
      "Epoch: 88; Error: 614.1610593013464;\n",
      "Epoch: 89; Error: 613.1845924511736;\n",
      "Epoch: 90; Error: 612.5591742212439;\n",
      "Epoch: 91; Error: 611.9140371568097;\n",
      "Epoch: 92; Error: 611.3637508347693;\n",
      "Epoch: 93; Error: 610.7305532604022;\n",
      "Epoch: 94; Error: 610.2079533268983;\n",
      "Epoch: 95; Error: 609.7470400079461;\n",
      "Epoch: 96; Error: 609.1672778884687;\n",
      "Epoch: 97; Error: 608.5653844173315;\n",
      "Epoch: 98; Error: 607.9415122856035;\n",
      "Epoch: 99; Error: 607.3326766648503;\n",
      "Epoch: 100; Error: 606.8171427524236;\n",
      "The maximum number of train epochs is reached\n"
     ]
    }
   ],
   "source": [
    "error.append(net.train(X,Y,show=1,epochs=100))"
   ]
  },
  {
   "cell_type": "code",
   "execution_count": 85,
   "id": "821acbad",
   "metadata": {},
   "outputs": [
    {
     "data": {
      "image/png": "[encoded data removed]",
      "text/plain": [
       "<Figure size 640x480 with 1 Axes>"
      ]
     },
     "metadata": {},
     "output_type": "display_data"
    }
   ],
   "source": [
    "plt.plot(range(1,101),error[0])\n",
    "plt.title('Error rate wrt Epochs')\n",
    "plt.xlabel('Epochs')\n",
    "plt.ylabel('Error')\n",
    "plt.show()"
   ]
  },
  {
   "cell_type": "code",
   "execution_count": 81,
   "id": "1b98c0e6",
   "metadata": {},
   "outputs": [],
   "source": [
    "predicted_values = net.sim(X)     "
   ]
  },
  {
   "cell_type": "code",
   "execution_count": 82,
   "id": "30e5f60b",
   "metadata": {},
   "outputs": [],
   "source": [
    "predicted_class=predicted_values\n",
    "predicted_class[predicted_values>0.5]=1\n",
    "predicted_class[predicted_values<=0.5]=0"
   ]
  },
  {
   "cell_type": "code",
   "execution_count": 83,
   "id": "0f5e2b0f",
   "metadata": {},
   "outputs": [
    {
     "name": "stdout",
     "output_type": "stream",
     "text": [
      "Accuracy : 90.52 %\n"
     ]
    }
   ],
   "source": [
    "from sklearn.metrics import accuracy_score\n",
    "accuracy=accuracy_score(Y,predicted_class)\n",
    "print(f'Accuracy : {accuracy*100:.2f} %' )"
   ]
  },
  {
   "cell_type": "code",
   "execution_count": 84,
   "id": "62a77763",
   "metadata": {},
   "outputs": [
    {
     "data": {
      "image/png": "[encoded data removed]",
      "text/plain": [
       "<Figure size 640x480 with 2 Axes>"
      ]
     },
     "metadata": {},
     "output_type": "display_data"
    }
   ],
   "source": [
    "from sklearn.metrics import confusion_matrix\n",
    "cm = confusion_matrix(Y,predicted_class)\n",
    "sns.heatmap(cm,\n",
    "            annot=True,\n",
    "            xticklabels=['YES','NO'],\n",
    "            yticklabels=['YES','NO'])\n",
    "plt.ylabel('Prediction',fontsize=13)\n",
    "plt.xlabel('Actual',fontsize=13)\n",
    "plt.title('Confusion Matrix',fontsize=17)\n",
    "plt.show()"
   ]
  },
  {
   "cell_type": "code",
   "execution_count": null,
   "id": "b25d0bc0",
   "metadata": {},
   "outputs": [],
   "source": []
  }
 ],
 "metadata": {
  "kernelspec": {
   "display_name": "Python 3 (ipykernel)",
   "language": "python",
   "name": "python3"
  },
  "language_info": {
   "codemirror_mode": {
    "name": "ipython",
    "version": 3
   },
   "file_extension": ".py",
   "mimetype": "text/x-python",
   "name": "python",
   "nbconvert_exporter": "python",
   "pygments_lexer": "ipython3",
   "version": "3.9.13"
  }
 },
 "nbformat": 4,
 "nbformat_minor": 5
}
