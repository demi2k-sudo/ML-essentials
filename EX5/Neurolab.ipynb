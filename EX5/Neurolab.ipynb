{
 "cells": [
  {
   "cell_type": "code",
   "execution_count": 1,
   "id": "d77e3fad",
   "metadata": {},
   "outputs": [],
   "source": [
    "import pandas as pd\n",
    "import numpy as np\n",
    "import neurolab as nl\n",
    "import matplotlib.pyplot as plt\n",
    "import seaborn as sns"
   ]
  },
  {
   "cell_type": "code",
   "execution_count": 2,
   "id": "0d127da2",
   "metadata": {},
   "outputs": [
    {
     "data": {
      "text/html": [
       "<div>\n",
       "<style scoped>\n",
       "    .dataframe tbody tr th:only-of-type {\n",
       "        vertical-align: middle;\n",
       "    }\n",
       "\n",
       "    .dataframe tbody tr th {\n",
       "        vertical-align: top;\n",
       "    }\n",
       "\n",
       "    .dataframe thead th {\n",
       "        text-align: right;\n",
       "    }\n",
       "</style>\n",
       "<table border=\"1\" class=\"dataframe\">\n",
       "  <thead>\n",
       "    <tr style=\"text-align: right;\">\n",
       "      <th></th>\n",
       "      <th>SIZE</th>\n",
       "      <th>FUEL</th>\n",
       "      <th>DISTANCE</th>\n",
       "      <th>DESIBEL</th>\n",
       "      <th>AIRFLOW</th>\n",
       "      <th>FREQUENCY</th>\n",
       "      <th>STATUS</th>\n",
       "    </tr>\n",
       "  </thead>\n",
       "  <tbody>\n",
       "    <tr>\n",
       "      <th>0</th>\n",
       "      <td>1</td>\n",
       "      <td>gasoline</td>\n",
       "      <td>10</td>\n",
       "      <td>96</td>\n",
       "      <td>0.0</td>\n",
       "      <td>75</td>\n",
       "      <td>0</td>\n",
       "    </tr>\n",
       "    <tr>\n",
       "      <th>1</th>\n",
       "      <td>1</td>\n",
       "      <td>gasoline</td>\n",
       "      <td>10</td>\n",
       "      <td>96</td>\n",
       "      <td>0.0</td>\n",
       "      <td>72</td>\n",
       "      <td>1</td>\n",
       "    </tr>\n",
       "    <tr>\n",
       "      <th>2</th>\n",
       "      <td>1</td>\n",
       "      <td>gasoline</td>\n",
       "      <td>10</td>\n",
       "      <td>96</td>\n",
       "      <td>2.6</td>\n",
       "      <td>70</td>\n",
       "      <td>1</td>\n",
       "    </tr>\n",
       "    <tr>\n",
       "      <th>3</th>\n",
       "      <td>1</td>\n",
       "      <td>gasoline</td>\n",
       "      <td>10</td>\n",
       "      <td>96</td>\n",
       "      <td>3.2</td>\n",
       "      <td>68</td>\n",
       "      <td>1</td>\n",
       "    </tr>\n",
       "    <tr>\n",
       "      <th>4</th>\n",
       "      <td>1</td>\n",
       "      <td>gasoline</td>\n",
       "      <td>10</td>\n",
       "      <td>109</td>\n",
       "      <td>4.5</td>\n",
       "      <td>67</td>\n",
       "      <td>1</td>\n",
       "    </tr>\n",
       "    <tr>\n",
       "      <th>...</th>\n",
       "      <td>...</td>\n",
       "      <td>...</td>\n",
       "      <td>...</td>\n",
       "      <td>...</td>\n",
       "      <td>...</td>\n",
       "      <td>...</td>\n",
       "      <td>...</td>\n",
       "    </tr>\n",
       "    <tr>\n",
       "      <th>17437</th>\n",
       "      <td>7</td>\n",
       "      <td>lpg</td>\n",
       "      <td>190</td>\n",
       "      <td>86</td>\n",
       "      <td>2.2</td>\n",
       "      <td>5</td>\n",
       "      <td>0</td>\n",
       "    </tr>\n",
       "    <tr>\n",
       "      <th>17438</th>\n",
       "      <td>7</td>\n",
       "      <td>lpg</td>\n",
       "      <td>190</td>\n",
       "      <td>84</td>\n",
       "      <td>2.0</td>\n",
       "      <td>4</td>\n",
       "      <td>0</td>\n",
       "    </tr>\n",
       "    <tr>\n",
       "      <th>17439</th>\n",
       "      <td>7</td>\n",
       "      <td>lpg</td>\n",
       "      <td>190</td>\n",
       "      <td>80</td>\n",
       "      <td>1.5</td>\n",
       "      <td>3</td>\n",
       "      <td>0</td>\n",
       "    </tr>\n",
       "    <tr>\n",
       "      <th>17440</th>\n",
       "      <td>7</td>\n",
       "      <td>lpg</td>\n",
       "      <td>190</td>\n",
       "      <td>76</td>\n",
       "      <td>0.4</td>\n",
       "      <td>2</td>\n",
       "      <td>0</td>\n",
       "    </tr>\n",
       "    <tr>\n",
       "      <th>17441</th>\n",
       "      <td>7</td>\n",
       "      <td>lpg</td>\n",
       "      <td>190</td>\n",
       "      <td>72</td>\n",
       "      <td>0.0</td>\n",
       "      <td>1</td>\n",
       "      <td>0</td>\n",
       "    </tr>\n",
       "  </tbody>\n",
       "</table>\n",
       "<p>17442 rows × 7 columns</p>\n",
       "</div>"
      ],
      "text/plain": [
       "       SIZE      FUEL  DISTANCE  DESIBEL  AIRFLOW  FREQUENCY  STATUS\n",
       "0         1  gasoline        10       96      0.0         75       0\n",
       "1         1  gasoline        10       96      0.0         72       1\n",
       "2         1  gasoline        10       96      2.6         70       1\n",
       "3         1  gasoline        10       96      3.2         68       1\n",
       "4         1  gasoline        10      109      4.5         67       1\n",
       "...     ...       ...       ...      ...      ...        ...     ...\n",
       "17437     7       lpg       190       86      2.2          5       0\n",
       "17438     7       lpg       190       84      2.0          4       0\n",
       "17439     7       lpg       190       80      1.5          3       0\n",
       "17440     7       lpg       190       76      0.4          2       0\n",
       "17441     7       lpg       190       72      0.0          1       0\n",
       "\n",
       "[17442 rows x 7 columns]"
      ]
     },
     "execution_count": 2,
     "metadata": {},
     "output_type": "execute_result"
    }
   ],
   "source": [
    "df = pd.read_csv('Acoustic_Extinguisher_Fire_Dataset.csv')\n",
    "df"
   ]
  },
  {
   "cell_type": "code",
   "execution_count": 3,
   "id": "6be4083f",
   "metadata": {},
   "outputs": [
    {
     "data": {
      "text/html": [
       "<div>\n",
       "<style scoped>\n",
       "    .dataframe tbody tr th:only-of-type {\n",
       "        vertical-align: middle;\n",
       "    }\n",
       "\n",
       "    .dataframe tbody tr th {\n",
       "        vertical-align: top;\n",
       "    }\n",
       "\n",
       "    .dataframe thead th {\n",
       "        text-align: right;\n",
       "    }\n",
       "</style>\n",
       "<table border=\"1\" class=\"dataframe\">\n",
       "  <thead>\n",
       "    <tr style=\"text-align: right;\">\n",
       "      <th></th>\n",
       "      <th>SIZE</th>\n",
       "      <th>FUEL</th>\n",
       "      <th>DISTANCE</th>\n",
       "      <th>DESIBEL</th>\n",
       "      <th>AIRFLOW</th>\n",
       "      <th>FREQUENCY</th>\n",
       "      <th>STATUS</th>\n",
       "    </tr>\n",
       "  </thead>\n",
       "  <tbody>\n",
       "    <tr>\n",
       "      <th>0</th>\n",
       "      <td>1</td>\n",
       "      <td>0</td>\n",
       "      <td>10</td>\n",
       "      <td>96</td>\n",
       "      <td>0.0</td>\n",
       "      <td>75</td>\n",
       "      <td>0</td>\n",
       "    </tr>\n",
       "    <tr>\n",
       "      <th>1</th>\n",
       "      <td>1</td>\n",
       "      <td>0</td>\n",
       "      <td>10</td>\n",
       "      <td>96</td>\n",
       "      <td>0.0</td>\n",
       "      <td>72</td>\n",
       "      <td>1</td>\n",
       "    </tr>\n",
       "    <tr>\n",
       "      <th>2</th>\n",
       "      <td>1</td>\n",
       "      <td>0</td>\n",
       "      <td>10</td>\n",
       "      <td>96</td>\n",
       "      <td>2.6</td>\n",
       "      <td>70</td>\n",
       "      <td>1</td>\n",
       "    </tr>\n",
       "    <tr>\n",
       "      <th>3</th>\n",
       "      <td>1</td>\n",
       "      <td>0</td>\n",
       "      <td>10</td>\n",
       "      <td>96</td>\n",
       "      <td>3.2</td>\n",
       "      <td>68</td>\n",
       "      <td>1</td>\n",
       "    </tr>\n",
       "    <tr>\n",
       "      <th>4</th>\n",
       "      <td>1</td>\n",
       "      <td>0</td>\n",
       "      <td>10</td>\n",
       "      <td>109</td>\n",
       "      <td>4.5</td>\n",
       "      <td>67</td>\n",
       "      <td>1</td>\n",
       "    </tr>\n",
       "    <tr>\n",
       "      <th>...</th>\n",
       "      <td>...</td>\n",
       "      <td>...</td>\n",
       "      <td>...</td>\n",
       "      <td>...</td>\n",
       "      <td>...</td>\n",
       "      <td>...</td>\n",
       "      <td>...</td>\n",
       "    </tr>\n",
       "    <tr>\n",
       "      <th>17437</th>\n",
       "      <td>7</td>\n",
       "      <td>2</td>\n",
       "      <td>190</td>\n",
       "      <td>86</td>\n",
       "      <td>2.2</td>\n",
       "      <td>5</td>\n",
       "      <td>0</td>\n",
       "    </tr>\n",
       "    <tr>\n",
       "      <th>17438</th>\n",
       "      <td>7</td>\n",
       "      <td>2</td>\n",
       "      <td>190</td>\n",
       "      <td>84</td>\n",
       "      <td>2.0</td>\n",
       "      <td>4</td>\n",
       "      <td>0</td>\n",
       "    </tr>\n",
       "    <tr>\n",
       "      <th>17439</th>\n",
       "      <td>7</td>\n",
       "      <td>2</td>\n",
       "      <td>190</td>\n",
       "      <td>80</td>\n",
       "      <td>1.5</td>\n",
       "      <td>3</td>\n",
       "      <td>0</td>\n",
       "    </tr>\n",
       "    <tr>\n",
       "      <th>17440</th>\n",
       "      <td>7</td>\n",
       "      <td>2</td>\n",
       "      <td>190</td>\n",
       "      <td>76</td>\n",
       "      <td>0.4</td>\n",
       "      <td>2</td>\n",
       "      <td>0</td>\n",
       "    </tr>\n",
       "    <tr>\n",
       "      <th>17441</th>\n",
       "      <td>7</td>\n",
       "      <td>2</td>\n",
       "      <td>190</td>\n",
       "      <td>72</td>\n",
       "      <td>0.0</td>\n",
       "      <td>1</td>\n",
       "      <td>0</td>\n",
       "    </tr>\n",
       "  </tbody>\n",
       "</table>\n",
       "<p>17442 rows × 7 columns</p>\n",
       "</div>"
      ],
      "text/plain": [
       "       SIZE  FUEL  DISTANCE  DESIBEL  AIRFLOW  FREQUENCY  STATUS\n",
       "0         1     0        10       96      0.0         75       0\n",
       "1         1     0        10       96      0.0         72       1\n",
       "2         1     0        10       96      2.6         70       1\n",
       "3         1     0        10       96      3.2         68       1\n",
       "4         1     0        10      109      4.5         67       1\n",
       "...     ...   ...       ...      ...      ...        ...     ...\n",
       "17437     7     2       190       86      2.2          5       0\n",
       "17438     7     2       190       84      2.0          4       0\n",
       "17439     7     2       190       80      1.5          3       0\n",
       "17440     7     2       190       76      0.4          2       0\n",
       "17441     7     2       190       72      0.0          1       0\n",
       "\n",
       "[17442 rows x 7 columns]"
      ]
     },
     "execution_count": 3,
     "metadata": {},
     "output_type": "execute_result"
    }
   ],
   "source": [
    "from sklearn.preprocessing import LabelEncoder\n",
    "encoder = LabelEncoder()\n",
    "\n",
    "df['FUEL'] = encoder.fit_transform(df['FUEL'])\n",
    "df"
   ]
  },
  {
   "cell_type": "code",
   "execution_count": 4,
   "id": "f02a2ebf",
   "metadata": {},
   "outputs": [
    {
     "data": {
      "text/plain": [
       "(1, 75)"
      ]
     },
     "execution_count": 4,
     "metadata": {},
     "output_type": "execute_result"
    }
   ],
   "source": [
    "min(list(np.array(df['FREQUENCY']))),max(list(np.array(df['FREQUENCY'])))"
   ]
  },
  {
   "cell_type": "code",
   "execution_count": 5,
   "id": "a296692d",
   "metadata": {},
   "outputs": [
    {
     "data": {
      "text/plain": [
       "[(1, 7), (0, 3), (10, 190), (72, 113), (0.0, 17.0), (1, 75), (0, 1)]"
      ]
     },
     "execution_count": 5,
     "metadata": {},
     "output_type": "execute_result"
    }
   ],
   "source": [
    "def min_max_features(df):\n",
    "    cols = df.columns\n",
    "    min_vals,max_vals=[],[]\n",
    "    for i in range(len(cols)):\n",
    "        min_vals.append(min(list(np.array(df[cols[i]]))))\n",
    "        max_vals.append(max(list(np.array(df[cols[i]]))))\n",
    "    return min_vals,max_vals\n",
    "mini,maxi = min_max_features(df)\n",
    "list(zip(mini,maxi))"
   ]
  },
  {
   "cell_type": "code",
   "execution_count": 6,
   "id": "e431e2dc",
   "metadata": {},
   "outputs": [
    {
     "data": {
      "text/plain": [
       "[(1, 7), (0, 3), (10, 190), (72, 113), (0.0, 17.0), (1, 75)]"
      ]
     },
     "execution_count": 6,
     "metadata": {},
     "output_type": "execute_result"
    }
   ],
   "source": [
    "inputs = list(zip(mini,maxi))[:-1]\n",
    "inputs"
   ]
  },
  {
   "cell_type": "code",
   "execution_count": 7,
   "id": "2f356650",
   "metadata": {},
   "outputs": [
    {
     "data": {
      "text/plain": [
       "[[1, 7], [0, 3], [10, 190], [72, 113], [0.0, 17.0], [1, 75]]"
      ]
     },
     "execution_count": 7,
     "metadata": {},
     "output_type": "execute_result"
    }
   ],
   "source": [
    "input_list=[]\n",
    "for i in inputs:\n",
    "    input_list.append(list(i))\n",
    "input_list"
   ]
  },
  {
   "cell_type": "code",
   "execution_count": 8,
   "id": "4095bfe9",
   "metadata": {},
   "outputs": [],
   "source": [
    "# Feed forward\n",
    "error = []\n",
    "net = nl.net.newff(input_list,[6,1])"
   ]
  },
  {
   "cell_type": "code",
   "execution_count": 9,
   "id": "f5e720d9",
   "metadata": {},
   "outputs": [],
   "source": [
    "net.trainf = nl.train.train_rprop\n"
   ]
  },
  {
   "cell_type": "code",
   "execution_count": 10,
   "id": "d5ae1b0d",
   "metadata": {},
   "outputs": [],
   "source": [
    "X = np.array(df.iloc[:,:6])\n",
    "Y = np.array(df.iloc[:,6:7])\n",
    "\n"
   ]
  },
  {
   "cell_type": "code",
   "execution_count": 11,
   "id": "da4b2449",
   "metadata": {
    "scrolled": true
   },
   "outputs": [
    {
     "name": "stdout",
     "output_type": "stream",
     "text": [
      "Epoch: 1; Error: 8871.710256228283;\n",
      "Epoch: 2; Error: 4296.085935788596;\n",
      "Epoch: 3; Error: 4181.691287107829;\n",
      "Epoch: 4; Error: 18301.641775313172;\n",
      "Epoch: 5; Error: 3495.012822890302;\n",
      "Epoch: 6; Error: 1994.6497840143766;\n",
      "Epoch: 7; Error: 2078.9733215880315;\n",
      "Epoch: 8; Error: 2179.4158747574493;\n",
      "Epoch: 9; Error: 1717.899844836414;\n",
      "Epoch: 10; Error: 1588.4605296403854;\n",
      "Epoch: 11; Error: 1390.6027310788606;\n",
      "Epoch: 12; Error: 1277.0439359978682;\n",
      "Epoch: 13; Error: 1242.9271665794145;\n",
      "Epoch: 14; Error: 1181.3481323234241;\n",
      "Epoch: 15; Error: 1141.2846265664475;\n",
      "Epoch: 16; Error: 1106.1745016690375;\n",
      "Epoch: 17; Error: 1070.1750252627392;\n",
      "Epoch: 18; Error: 1041.7627174920292;\n",
      "Epoch: 19; Error: 1024.1601280142909;\n",
      "Epoch: 20; Error: 1052.888621562404;\n",
      "Epoch: 21; Error: 1015.1972080218891;\n",
      "Epoch: 22; Error: 1027.0565995572256;\n",
      "Epoch: 23; Error: 1011.7890575833858;\n",
      "Epoch: 24; Error: 1010.2777600862876;\n",
      "Epoch: 25; Error: 1006.7862985179881;\n",
      "Epoch: 26; Error: 1004.1183971962942;\n",
      "Epoch: 27; Error: 1001.2623402717287;\n",
      "Epoch: 28; Error: 998.1320641230067;\n",
      "Epoch: 29; Error: 994.7052781087503;\n",
      "Epoch: 30; Error: 990.7698064905865;\n",
      "Epoch: 31; Error: 986.350319627573;\n",
      "Epoch: 32; Error: 981.2508032804689;\n",
      "Epoch: 33; Error: 975.5658532323695;\n",
      "Epoch: 34; Error: 969.8809342858278;\n",
      "Epoch: 35; Error: 966.3778507032273;\n",
      "Epoch: 36; Error: 961.6169881415243;\n",
      "Epoch: 37; Error: 957.1222441291546;\n",
      "Epoch: 38; Error: 952.5642344889717;\n",
      "Epoch: 39; Error: 947.9525880093415;\n",
      "Epoch: 40; Error: 943.4436827729427;\n",
      "Epoch: 41; Error: 938.4556877376891;\n",
      "Epoch: 42; Error: 933.6516154451917;\n",
      "Epoch: 43; Error: 928.2468878556787;\n",
      "Epoch: 44; Error: 922.1389426365334;\n",
      "Epoch: 45; Error: 914.8916564704574;\n",
      "Epoch: 46; Error: 909.5874678550479;\n",
      "Epoch: 47; Error: 904.411676559484;\n",
      "Epoch: 48; Error: 898.1571380183067;\n",
      "Epoch: 49; Error: 891.625557089711;\n",
      "Epoch: 50; Error: 884.0257102353562;\n",
      "Epoch: 51; Error: 874.7177200189459;\n",
      "Epoch: 52; Error: 863.6822805731119;\n",
      "Epoch: 53; Error: 851.2410174272683;\n",
      "Epoch: 54; Error: 838.3524100381901;\n",
      "Epoch: 55; Error: 830.1594986362984;\n",
      "Epoch: 56; Error: 816.9993169225695;\n",
      "Epoch: 57; Error: 803.6458922796087;\n",
      "Epoch: 58; Error: 796.8613646085016;\n",
      "Epoch: 59; Error: 793.2996867716846;\n",
      "Epoch: 60; Error: 787.2048313653243;\n",
      "Epoch: 61; Error: 782.3303897596941;\n",
      "Epoch: 62; Error: 777.7193146197569;\n",
      "Epoch: 63; Error: 774.5441791245715;\n",
      "Epoch: 64; Error: 770.0966201042912;\n",
      "Epoch: 65; Error: 765.2965043888436;\n",
      "Epoch: 66; Error: 761.0307454041051;\n",
      "Epoch: 67; Error: 756.3350028815757;\n",
      "Epoch: 68; Error: 751.8378957552475;\n",
      "Epoch: 69; Error: 746.9042676584332;\n",
      "Epoch: 70; Error: 742.3157332084376;\n",
      "Epoch: 71; Error: 737.866631748207;\n",
      "Epoch: 72; Error: 733.5980227205962;\n",
      "Epoch: 73; Error: 729.2531882280001;\n",
      "Epoch: 74; Error: 725.2004655189601;\n",
      "Epoch: 75; Error: 723.8277027987857;\n",
      "Epoch: 76; Error: 719.2953411827236;\n",
      "Epoch: 77; Error: 715.6573744388913;\n",
      "Epoch: 78; Error: 712.2319840086401;\n",
      "Epoch: 79; Error: 708.8733096994997;\n",
      "Epoch: 80; Error: 704.9825505765276;\n",
      "Epoch: 81; Error: 700.4756237554775;\n",
      "Epoch: 82; Error: 695.5895610806444;\n",
      "Epoch: 83; Error: 690.191483405595;\n",
      "Epoch: 84; Error: 687.8092276632209;\n",
      "Epoch: 85; Error: 683.4221680759117;\n",
      "Epoch: 86; Error: 679.2684024495209;\n",
      "Epoch: 87; Error: 676.3271170732505;\n",
      "Epoch: 88; Error: 672.539480819845;\n",
      "Epoch: 89; Error: 668.8258548231032;\n",
      "Epoch: 90; Error: 665.5056701512045;\n",
      "Epoch: 91; Error: 662.2137527910793;\n",
      "Epoch: 92; Error: 659.0055069579292;\n",
      "Epoch: 93; Error: 658.5162831963933;\n",
      "Epoch: 94; Error: 656.8298766954102;\n",
      "Epoch: 95; Error: 655.4052960324883;\n",
      "Epoch: 96; Error: 653.6121380957741;\n",
      "Epoch: 97; Error: 651.7346235742516;\n",
      "Epoch: 98; Error: 649.8650445365164;\n",
      "Epoch: 99; Error: 648.577041538749;\n",
      "Epoch: 100; Error: 647.7638730913965;\n",
      "The maximum number of train epochs is reached\n"
     ]
    }
   ],
   "source": [
    "error.append(net.train(X,Y,show=1,epochs=100))"
   ]
  },
  {
   "cell_type": "code",
   "execution_count": 12,
   "id": "821acbad",
   "metadata": {},
   "outputs": [
    {
     "data": {
      "image/png": "[encoded data removed]",
      "text/plain": [
       "<Figure size 640x480 with 1 Axes>"
      ]
     },
     "metadata": {},
     "output_type": "display_data"
    }
   ],
   "source": [
    "plt.plot(range(1,101),error[0])\n",
    "plt.title('Error rate wrt Epochs')\n",
    "plt.xlabel('Epochs')\n",
    "plt.ylabel('Error')\n",
    "plt.show()"
   ]
  },
  {
   "cell_type": "code",
   "execution_count": 13,
   "id": "1b98c0e6",
   "metadata": {},
   "outputs": [],
   "source": [
    "predicted_values = net.sim(X)     "
   ]
  },
  {
   "cell_type": "code",
   "execution_count": 14,
   "id": "30e5f60b",
   "metadata": {},
   "outputs": [],
   "source": [
    "predicted_class=predicted_values\n",
    "predicted_class[predicted_values>0.5]=1\n",
    "predicted_class[predicted_values<=0.5]=0"
   ]
  },
  {
   "cell_type": "code",
   "execution_count": 15,
   "id": "0f5e2b0f",
   "metadata": {},
   "outputs": [
    {
     "name": "stdout",
     "output_type": "stream",
     "text": [
      "Accuracy : 89.87 %\n"
     ]
    }
   ],
   "source": [
    "from sklearn.metrics import accuracy_score\n",
    "accuracy=accuracy_score(Y,predicted_class)\n",
    "print(f'Accuracy : {accuracy*100:.2f} %' )"
   ]
  },
  {
   "cell_type": "code",
   "execution_count": 16,
   "id": "62a77763",
   "metadata": {},
   "outputs": [
    {
     "data": {
      "image/png": "[encoded data removed]",
      "text/plain": [
       "<Figure size 640x480 with 2 Axes>"
      ]
     },
     "metadata": {},
     "output_type": "display_data"
    }
   ],
   "source": [
    "from sklearn.metrics import confusion_matrix\n",
    "cm = confusion_matrix(Y,predicted_class)\n",
    "sns.heatmap(cm,\n",
    "            annot=True,\n",
    "            xticklabels=['YES','NO'],\n",
    "            yticklabels=['YES','NO'])\n",
    "plt.ylabel('Prediction',fontsize=13)\n",
    "plt.xlabel('Actual',fontsize=13)\n",
    "plt.title('Confusion Matrix',fontsize=17)\n",
    "plt.show()"
   ]
  },
  {
   "cell_type": "code",
   "execution_count": 1,
   "id": "b25d0bc0",
   "metadata": {},
   "outputs": [],
   "source": []
  },
  {
   "cell_type": "code",
   "execution_count": null,
   "id": "0e4360ce",
   "metadata": {},
   "outputs": [],
   "source": []
  }
 ],
 "metadata": {
  "kernelspec": {
   "display_name": "Python 3 (ipykernel)",
   "language": "python",
   "name": "python3"
  },
  "language_info": {
   "codemirror_mode": {
    "name": "ipython",
    "version": 3
   },
   "file_extension": ".py",
   "mimetype": "text/x-python",
   "name": "python",
   "nbconvert_exporter": "python",
   "pygments_lexer": "ipython3",
   "version": "3.10.9"
  }
 },
 "nbformat": 4,
 "nbformat_minor": 5
}
