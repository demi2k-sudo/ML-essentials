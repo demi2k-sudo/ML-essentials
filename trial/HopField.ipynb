{
 "cells": [
  {
   "cell_type": "code",
   "execution_count": 4,
   "id": "5c5f4671",
   "metadata": {},
   "outputs": [],
   "source": [
    "import numpy as np\n",
    "import neurolab as nl"
   ]
  },
  {
   "cell_type": "code",
   "execution_count": 13,
   "id": "6942b861",
   "metadata": {},
   "outputs": [],
   "source": [
    "# N E R O\n",
    "target =  [[1,1,1,1,0,\n",
    "            1,0,0,0,1,\n",
    "            1,0,0,0,1,\n",
    "            1,0,0,0,1,\n",
    "            1,1,1,1,0],\n",
    "\n",
    "\t      [1,1,1,1,1,\n",
    "           1,0,0,0,0,\n",
    "           1,1,1,1,0,\n",
    "           1,0,0,0,0,\n",
    "           1,1,1,1,1],\n",
    "           \n",
    "          [1,0,0,0,1,\n",
    "           1,1,0,1,1,\n",
    "           1,0,1,0,1,\n",
    "           1,0,0,0,1,\n",
    "           1,0,0,0,1],\n",
    "          \n",
    "          [1,1,1,1,1,\n",
    "           0,0,1,0,0,\n",
    "           0,0,1,0,0,\n",
    "           0,0,1,0,0,\n",
    "           1,1,1,1,1],\n",
    "           \n",
    "          ]"
   ]
  },
  {
   "cell_type": "code",
   "execution_count": 14,
   "id": "73657a3a",
   "metadata": {},
   "outputs": [
    {
     "data": {
      "text/plain": [
       "array([[ 1.,  1.,  1.,  1., -1.,  1., -1., -1., -1.,  1.,  1., -1., -1.,\n",
       "        -1.,  1.,  1., -1., -1., -1.,  1.,  1.,  1.,  1.,  1., -1.],\n",
       "       [ 1.,  1.,  1.,  1.,  1.,  1., -1., -1., -1., -1.,  1.,  1.,  1.,\n",
       "         1., -1.,  1., -1., -1., -1., -1.,  1.,  1.,  1.,  1.,  1.],\n",
       "       [ 1., -1., -1., -1.,  1.,  1.,  1., -1.,  1.,  1.,  1., -1.,  1.,\n",
       "        -1.,  1.,  1., -1., -1., -1.,  1.,  1., -1., -1., -1.,  1.],\n",
       "       [ 1.,  1.,  1.,  1.,  1., -1., -1.,  1., -1., -1., -1., -1.,  1.,\n",
       "        -1., -1., -1., -1.,  1., -1., -1.,  1.,  1.,  1.,  1.,  1.]])"
      ]
     },
     "execution_count": 14,
     "metadata": {},
     "output_type": "execute_result"
    }
   ],
   "source": [
    "chars = ['D','E','M','I']\n",
    "target = np.asfarray(target)\n",
    "target[target == 0] = -1\n",
    "target"
   ]
  },
  {
   "cell_type": "code",
   "execution_count": 15,
   "id": "74e3b43f",
   "metadata": {},
   "outputs": [],
   "source": [
    "# Create and train network\n",
    "net = nl.net.newhop(target)"
   ]
  },
  {
   "cell_type": "code",
   "execution_count": 16,
   "id": "c54a99af",
   "metadata": {},
   "outputs": [],
   "source": [
    "output = net.sim(target)"
   ]
  },
  {
   "cell_type": "code",
   "execution_count": 17,
   "id": "693ecb2a",
   "metadata": {},
   "outputs": [
    {
     "name": "stdout",
     "output_type": "stream",
     "text": [
      "Test on train samples:\n",
      "D True\n",
      "E True\n",
      "M True\n",
      "I True\n",
      "\n",
      "Test on defaced I:\n",
      "True Sim. steps 1\n"
     ]
    }
   ],
   "source": [
    "print(\"Test on train samples:\")\n",
    "for i in range(len(target)):\n",
    "    print(chars[i], (output[i] == target[i]).all())\n",
    "\n",
    "print(\"\\nTest on defaced I:\")\n",
    "test =np.asfarray([1,1,1,1,1,\n",
    "                   0,0,1,0,0,\n",
    "                   0,0,1,0,0,\n",
    "                   0,0,1,0,0,\n",
    "                   1,1,1,1,1])\n",
    "test[test==0] = -1\n",
    "out = net.sim([test])\n",
    "print ((out[0] == target[3]).all(), 'Sim. steps',len(net.layers[0].outs))"
   ]
  },
  {
   "cell_type": "code",
   "execution_count": null,
   "id": "b2294750",
   "metadata": {},
   "outputs": [],
   "source": []
  }
 ],
 "metadata": {
  "kernelspec": {
   "display_name": "Python 3 (ipykernel)",
   "language": "python",
   "name": "python3"
  },
  "language_info": {
   "codemirror_mode": {
    "name": "ipython",
    "version": 3
   },
   "file_extension": ".py",
   "mimetype": "text/x-python",
   "name": "python",
   "nbconvert_exporter": "python",
   "pygments_lexer": "ipython3",
   "version": "3.10.9"
  }
 },
 "nbformat": 4,
 "nbformat_minor": 5
}
