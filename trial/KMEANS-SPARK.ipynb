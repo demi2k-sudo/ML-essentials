{
 "cells": [
  {
   "cell_type": "code",
   "execution_count": 3,
   "id": "66ee85c8",
   "metadata": {},
   "outputs": [
    {
     "ename": "ModuleNotFoundError",
     "evalue": "No module named 'pyspark'",
     "output_type": "error",
     "traceback": [
      "\u001b[1;31m---------------------------------------------------------------------------\u001b[0m",
      "\u001b[1;31mModuleNotFoundError\u001b[0m                       Traceback (most recent call last)",
      "Cell \u001b[1;32mIn[3], line 1\u001b[0m\n\u001b[1;32m----> 1\u001b[0m \u001b[38;5;28;01mfrom\u001b[39;00m \u001b[38;5;21;01mpyspark\u001b[39;00m\u001b[38;5;21;01m.\u001b[39;00m\u001b[38;5;21;01mml\u001b[39;00m\u001b[38;5;21;01m.\u001b[39;00m\u001b[38;5;21;01mclassification\u001b[39;00m \u001b[38;5;28;01mimport\u001b[39;00m LinearSVC\n\u001b[0;32m      2\u001b[0m \u001b[38;5;28;01mfrom\u001b[39;00m \u001b[38;5;21;01mpyspark\u001b[39;00m \u001b[38;5;28;01mimport\u001b[39;00m SparkContext\n\u001b[0;32m      3\u001b[0m \u001b[38;5;28;01mfrom\u001b[39;00m \u001b[38;5;21;01mpyspark\u001b[39;00m \u001b[38;5;28;01mimport\u001b[39;00m SparkContext\n",
      "\u001b[1;31mModuleNotFoundError\u001b[0m: No module named 'pyspark'"
     ]
    }
   ],
   "source": [
    "from pyspark.ml.classification import LinearSVC\n",
    "from pyspark import SparkContext\n",
    "from pyspark import SparkContext\n",
    "from pyspark.sql import SQLContext"
   ]
  },
  {
   "cell_type": "code",
   "execution_count": null,
   "id": "885eead8",
   "metadata": {},
   "outputs": [],
   "source": [
    "import pandas as pd"
   ]
  },
  {
   "cell_type": "code",
   "execution_count": null,
   "id": "a22d85cf",
   "metadata": {},
   "outputs": [],
   "source": [
    "df=pd.read_csv(\"Pistachio_16_Features_Dataset.csv\")\n",
    "df=df.dropna()\n",
    "df['AREA']=df['AREA'].astype(int)\n",
    "from sklearn.preprocessing import LabelEncoder\n",
    "lc=LabelEncoder()\n",
    "df['Class']=lc.fit_transform(df['Class'])\n",
    "df"
   ]
  },
  {
   "cell_type": "code",
   "execution_count": null,
   "id": "00a2bd60",
   "metadata": {},
   "outputs": [],
   "source": [
    "from pyspark.sql import SparkSession"
   ]
  },
  {
   "cell_type": "code",
   "execution_count": null,
   "id": "cd3efce7",
   "metadata": {},
   "outputs": [],
   "source": [
    "spark=SparkSession.builder.appName('KMeans').getOrCreate()"
   ]
  },
  {
   "cell_type": "code",
   "execution_count": null,
   "id": "067392b5",
   "metadata": {},
   "outputs": [],
   "source": [
    "data1 = spark.createDataFrame(df)"
   ]
  },
  {
   "cell_type": "code",
   "execution_count": null,
   "id": "fffed18d",
   "metadata": {},
   "outputs": [],
   "source": [
    "data1"
   ]
  },
  {
   "cell_type": "code",
   "execution_count": null,
   "id": "a133c55c",
   "metadata": {},
   "outputs": [],
   "source": [
    "from pyspark.ml.feature import VectorAssembler"
   ]
  },
  {
   "cell_type": "code",
   "execution_count": null,
   "id": "8cd5a830",
   "metadata": {},
   "outputs": [],
   "source": [
    "cl=list(df.columns[0:16])"
   ]
  },
  {
   "cell_type": "code",
   "execution_count": null,
   "id": "98a69b12",
   "metadata": {},
   "outputs": [],
   "source": [
    "assembler = VectorAssembler(inputCols=cl,outputCol=\"features\")"
   ]
  },
  {
   "cell_type": "code",
   "execution_count": null,
   "id": "4e284ba0",
   "metadata": {},
   "outputs": [],
   "source": [
    "d=assembler.transform(data1)\n",
    "d = d.select(['features','Class'])\n",
    "d.show()"
   ]
  },
  {
   "cell_type": "code",
   "execution_count": null,
   "id": "5776d408",
   "metadata": {},
   "outputs": [],
   "source": [
    "type(d)"
   ]
  },
  {
   "cell_type": "code",
   "execution_count": null,
   "id": "9658ffc5",
   "metadata": {},
   "outputs": [],
   "source": [
    "train,test=d.randomSplit([0.8,0.2],seed=42)"
   ]
  },
  {
   "cell_type": "code",
   "execution_count": null,
   "id": "6997e1d1",
   "metadata": {
    "scrolled": true
   },
   "outputs": [],
   "source": [
    "from pyspark.ml.feature import StandardScaler\n",
    "  \n",
    "scaler = StandardScaler(inputCol=\"features\", \n",
    "                        outputCol=\"scaledFeatures\", \n",
    "                        withStd=True, \n",
    "                        withMean=False)\n",
    "scalerModel = scaler.fit(d)\n",
    "d= scalerModel.transform(d)\n",
    "  \n",
    "d.select('scaledFeatures').show(5)"
   ]
  },
  {
   "cell_type": "code",
   "execution_count": null,
   "id": "fab3934d",
   "metadata": {},
   "outputs": [],
   "source": [
    "from pyspark.ml.clustering import KMeans\n",
    "from pyspark.ml.evaluation import ClusteringEvaluator\n",
    "  \n",
    "silhouette_score=[]\n",
    "  \n",
    "evaluator = ClusteringEvaluator(predictionCol='prediction',\n",
    "                                featuresCol='scaledFeatures', \\\n",
    "                                metricName='silhouette', \n",
    "                                distanceMeasure='squaredEuclidean')\n",
    "  \n",
    "for i in range(2,10):\n",
    "    kmeans=KMeans(featuresCol='scaledFeatures', k=i)\n",
    "    model=kmeans.fit(d)\n",
    "    predictions=model.transform(d)\n",
    "    score=evaluator.evaluate(predictions)\n",
    "    silhouette_score.append(score)\n",
    "    print('Silhouette Score for k =',i,'is',score)"
   ]
  },
  {
   "cell_type": "code",
   "execution_count": null,
   "id": "f265b75b",
   "metadata": {},
   "outputs": [],
   "source": [
    "import matplotlib.pyplot as plt \n",
    "plt.plot(range(2,10),silhouette_score)\n",
    "plt.xlabel('k')\n",
    "plt.ylabel('silhouette score')\n",
    "plt.title('Silhouette Score')\n",
    "plt.show()"
   ]
  },
  {
   "cell_type": "code",
   "execution_count": 4,
   "id": "0cdf0ea8",
   "metadata": {},
   "outputs": [
    {
     "name": "stderr",
     "output_type": "stream",
     "text": [
      "Unable to create process using 'C:\\Users\\Naboth Demetrius\\anaconda3\\python.exe \"C:\\Users\\Naboth Demetrius\\anaconda3\\Scripts\\pip-script.py\" install pyspark'\n"
     ]
    }
   ],
   "source": [
    "!pip install pyspark"
   ]
  },
  {
   "cell_type": "code",
   "execution_count": null,
   "id": "22c0f574",
   "metadata": {},
   "outputs": [],
   "source": []
  }
 ],
 "metadata": {
  "kernelspec": {
   "display_name": "Python 3 (ipykernel)",
   "language": "python",
   "name": "python3"
  },
  "language_info": {
   "codemirror_mode": {
    "name": "ipython",
    "version": 3
   },
   "file_extension": ".py",
   "mimetype": "text/x-python",
   "name": "python",
   "nbconvert_exporter": "python",
   "pygments_lexer": "ipython3",
   "version": "3.10.9"
  }
 },
 "nbformat": 4,
 "nbformat_minor": 5
}
