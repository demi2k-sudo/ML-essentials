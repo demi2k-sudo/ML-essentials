{
 "cells": [
  {
   "cell_type": "code",
   "execution_count": 1,
   "id": "4c0f698a",
   "metadata": {},
   "outputs": [],
   "source": [
    "import pandas as pd\n",
    "import numpy as np\n",
    "import matplotlib.pyplot as plt\n",
    "from pyspark.sql import SparkSession"
   ]
  },
  {
   "cell_type": "code",
   "execution_count": 2,
   "id": "87126114",
   "metadata": {},
   "outputs": [
    {
     "data": {
      "text/html": [
       "<div>\n",
       "<style scoped>\n",
       "    .dataframe tbody tr th:only-of-type {\n",
       "        vertical-align: middle;\n",
       "    }\n",
       "\n",
       "    .dataframe tbody tr th {\n",
       "        vertical-align: top;\n",
       "    }\n",
       "\n",
       "    .dataframe thead th {\n",
       "        text-align: right;\n",
       "    }\n",
       "</style>\n",
       "<table border=\"1\" class=\"dataframe\">\n",
       "  <thead>\n",
       "    <tr style=\"text-align: right;\">\n",
       "      <th></th>\n",
       "      <th>AREA</th>\n",
       "      <th>PERIMETER</th>\n",
       "      <th>MAJOR_AXIS</th>\n",
       "      <th>MINOR_AXIS</th>\n",
       "      <th>ECCENTRICITY</th>\n",
       "      <th>EQDIASQ</th>\n",
       "      <th>SOLIDITY</th>\n",
       "      <th>CONVEX_AREA</th>\n",
       "      <th>EXTENT</th>\n",
       "      <th>ASPECT_RATIO</th>\n",
       "      <th>ROUNDNESS</th>\n",
       "      <th>COMPACTNESS</th>\n",
       "      <th>SHAPEFACTOR_1</th>\n",
       "      <th>SHAPEFACTOR_2</th>\n",
       "      <th>SHAPEFACTOR_3</th>\n",
       "      <th>SHAPEFACTOR_4</th>\n",
       "      <th>Class</th>\n",
       "    </tr>\n",
       "  </thead>\n",
       "  <tbody>\n",
       "    <tr>\n",
       "      <th>0</th>\n",
       "      <td>63391</td>\n",
       "      <td>1568.4050</td>\n",
       "      <td>390.3396</td>\n",
       "      <td>236.7461</td>\n",
       "      <td>0.7951</td>\n",
       "      <td>284.0984</td>\n",
       "      <td>0.8665</td>\n",
       "      <td>73160.0</td>\n",
       "      <td>0.6394</td>\n",
       "      <td>1.6488</td>\n",
       "      <td>0.3238</td>\n",
       "      <td>0.7278</td>\n",
       "      <td>0.0062</td>\n",
       "      <td>0.0037</td>\n",
       "      <td>0.5297</td>\n",
       "      <td>0.8734</td>\n",
       "      <td>0</td>\n",
       "    </tr>\n",
       "    <tr>\n",
       "      <th>1</th>\n",
       "      <td>68358</td>\n",
       "      <td>1942.1870</td>\n",
       "      <td>410.8594</td>\n",
       "      <td>234.7525</td>\n",
       "      <td>0.8207</td>\n",
       "      <td>295.0188</td>\n",
       "      <td>0.8765</td>\n",
       "      <td>77991.0</td>\n",
       "      <td>0.6772</td>\n",
       "      <td>1.7502</td>\n",
       "      <td>0.2277</td>\n",
       "      <td>0.7181</td>\n",
       "      <td>0.0060</td>\n",
       "      <td>0.0034</td>\n",
       "      <td>0.5156</td>\n",
       "      <td>0.9024</td>\n",
       "      <td>0</td>\n",
       "    </tr>\n",
       "    <tr>\n",
       "      <th>2</th>\n",
       "      <td>73589</td>\n",
       "      <td>1246.5380</td>\n",
       "      <td>452.3630</td>\n",
       "      <td>220.5547</td>\n",
       "      <td>0.8731</td>\n",
       "      <td>306.0987</td>\n",
       "      <td>0.9172</td>\n",
       "      <td>80234.0</td>\n",
       "      <td>0.7127</td>\n",
       "      <td>2.0510</td>\n",
       "      <td>0.5951</td>\n",
       "      <td>0.6767</td>\n",
       "      <td>0.0061</td>\n",
       "      <td>0.0030</td>\n",
       "      <td>0.4579</td>\n",
       "      <td>0.9391</td>\n",
       "      <td>0</td>\n",
       "    </tr>\n",
       "    <tr>\n",
       "      <th>3</th>\n",
       "      <td>71106</td>\n",
       "      <td>1445.2610</td>\n",
       "      <td>429.5291</td>\n",
       "      <td>216.0765</td>\n",
       "      <td>0.8643</td>\n",
       "      <td>300.8903</td>\n",
       "      <td>0.9589</td>\n",
       "      <td>74153.0</td>\n",
       "      <td>0.7028</td>\n",
       "      <td>1.9879</td>\n",
       "      <td>0.4278</td>\n",
       "      <td>0.7005</td>\n",
       "      <td>0.0060</td>\n",
       "      <td>0.0030</td>\n",
       "      <td>0.4907</td>\n",
       "      <td>0.9755</td>\n",
       "      <td>0</td>\n",
       "    </tr>\n",
       "    <tr>\n",
       "      <th>4</th>\n",
       "      <td>80087</td>\n",
       "      <td>1251.5240</td>\n",
       "      <td>469.3783</td>\n",
       "      <td>220.9344</td>\n",
       "      <td>0.8823</td>\n",
       "      <td>319.3273</td>\n",
       "      <td>0.9657</td>\n",
       "      <td>82929.0</td>\n",
       "      <td>0.7459</td>\n",
       "      <td>2.1245</td>\n",
       "      <td>0.6425</td>\n",
       "      <td>0.6803</td>\n",
       "      <td>0.0059</td>\n",
       "      <td>0.0028</td>\n",
       "      <td>0.4628</td>\n",
       "      <td>0.9833</td>\n",
       "      <td>0</td>\n",
       "    </tr>\n",
       "    <tr>\n",
       "      <th>...</th>\n",
       "      <td>...</td>\n",
       "      <td>...</td>\n",
       "      <td>...</td>\n",
       "      <td>...</td>\n",
       "      <td>...</td>\n",
       "      <td>...</td>\n",
       "      <td>...</td>\n",
       "      <td>...</td>\n",
       "      <td>...</td>\n",
       "      <td>...</td>\n",
       "      <td>...</td>\n",
       "      <td>...</td>\n",
       "      <td>...</td>\n",
       "      <td>...</td>\n",
       "      <td>...</td>\n",
       "      <td>...</td>\n",
       "      <td>...</td>\n",
       "    </tr>\n",
       "    <tr>\n",
       "      <th>2143</th>\n",
       "      <td>85983</td>\n",
       "      <td>1157.1160</td>\n",
       "      <td>444.3447</td>\n",
       "      <td>248.8627</td>\n",
       "      <td>0.8284</td>\n",
       "      <td>330.8730</td>\n",
       "      <td>0.9823</td>\n",
       "      <td>87536.0</td>\n",
       "      <td>0.6799</td>\n",
       "      <td>1.7855</td>\n",
       "      <td>0.8070</td>\n",
       "      <td>0.7446</td>\n",
       "      <td>0.0052</td>\n",
       "      <td>0.0029</td>\n",
       "      <td>0.5545</td>\n",
       "      <td>0.9900</td>\n",
       "      <td>1</td>\n",
       "    </tr>\n",
       "    <tr>\n",
       "      <th>2144</th>\n",
       "      <td>85691</td>\n",
       "      <td>2327.3459</td>\n",
       "      <td>439.8794</td>\n",
       "      <td>278.9297</td>\n",
       "      <td>0.7732</td>\n",
       "      <td>330.3107</td>\n",
       "      <td>0.8886</td>\n",
       "      <td>96439.0</td>\n",
       "      <td>0.6590</td>\n",
       "      <td>1.5770</td>\n",
       "      <td>0.1988</td>\n",
       "      <td>0.7509</td>\n",
       "      <td>0.0051</td>\n",
       "      <td>0.0033</td>\n",
       "      <td>0.5639</td>\n",
       "      <td>0.8892</td>\n",
       "      <td>1</td>\n",
       "    </tr>\n",
       "    <tr>\n",
       "      <th>2145</th>\n",
       "      <td>101136</td>\n",
       "      <td>1255.6190</td>\n",
       "      <td>475.2161</td>\n",
       "      <td>271.3299</td>\n",
       "      <td>0.8210</td>\n",
       "      <td>358.8459</td>\n",
       "      <td>0.9888</td>\n",
       "      <td>102286.0</td>\n",
       "      <td>0.7584</td>\n",
       "      <td>1.7514</td>\n",
       "      <td>0.8061</td>\n",
       "      <td>0.7551</td>\n",
       "      <td>0.0047</td>\n",
       "      <td>0.0027</td>\n",
       "      <td>0.5702</td>\n",
       "      <td>0.9987</td>\n",
       "      <td>1</td>\n",
       "    </tr>\n",
       "    <tr>\n",
       "      <th>2146</th>\n",
       "      <td>97409</td>\n",
       "      <td>1195.2150</td>\n",
       "      <td>452.1823</td>\n",
       "      <td>274.5764</td>\n",
       "      <td>0.7945</td>\n",
       "      <td>352.1718</td>\n",
       "      <td>0.9902</td>\n",
       "      <td>98376.0</td>\n",
       "      <td>0.7635</td>\n",
       "      <td>1.6468</td>\n",
       "      <td>0.8569</td>\n",
       "      <td>0.7788</td>\n",
       "      <td>0.0046</td>\n",
       "      <td>0.0028</td>\n",
       "      <td>0.6066</td>\n",
       "      <td>0.9989</td>\n",
       "      <td>1</td>\n",
       "    </tr>\n",
       "    <tr>\n",
       "      <th>2147</th>\n",
       "      <td>78466</td>\n",
       "      <td>2356.9080</td>\n",
       "      <td>445.9131</td>\n",
       "      <td>258.5125</td>\n",
       "      <td>0.8148</td>\n",
       "      <td>316.0791</td>\n",
       "      <td>0.8662</td>\n",
       "      <td>90591.0</td>\n",
       "      <td>0.6123</td>\n",
       "      <td>1.7249</td>\n",
       "      <td>0.1775</td>\n",
       "      <td>0.7088</td>\n",
       "      <td>0.0057</td>\n",
       "      <td>0.0033</td>\n",
       "      <td>0.5024</td>\n",
       "      <td>0.8667</td>\n",
       "      <td>1</td>\n",
       "    </tr>\n",
       "  </tbody>\n",
       "</table>\n",
       "<p>2148 rows × 17 columns</p>\n",
       "</div>"
      ],
      "text/plain": [
       "        AREA  PERIMETER  MAJOR_AXIS  MINOR_AXIS  ECCENTRICITY   EQDIASQ  \\\n",
       "0      63391  1568.4050    390.3396    236.7461        0.7951  284.0984   \n",
       "1      68358  1942.1870    410.8594    234.7525        0.8207  295.0188   \n",
       "2      73589  1246.5380    452.3630    220.5547        0.8731  306.0987   \n",
       "3      71106  1445.2610    429.5291    216.0765        0.8643  300.8903   \n",
       "4      80087  1251.5240    469.3783    220.9344        0.8823  319.3273   \n",
       "...      ...        ...         ...         ...           ...       ...   \n",
       "2143   85983  1157.1160    444.3447    248.8627        0.8284  330.8730   \n",
       "2144   85691  2327.3459    439.8794    278.9297        0.7732  330.3107   \n",
       "2145  101136  1255.6190    475.2161    271.3299        0.8210  358.8459   \n",
       "2146   97409  1195.2150    452.1823    274.5764        0.7945  352.1718   \n",
       "2147   78466  2356.9080    445.9131    258.5125        0.8148  316.0791   \n",
       "\n",
       "      SOLIDITY  CONVEX_AREA  EXTENT  ASPECT_RATIO  ROUNDNESS  COMPACTNESS  \\\n",
       "0       0.8665      73160.0  0.6394        1.6488     0.3238       0.7278   \n",
       "1       0.8765      77991.0  0.6772        1.7502     0.2277       0.7181   \n",
       "2       0.9172      80234.0  0.7127        2.0510     0.5951       0.6767   \n",
       "3       0.9589      74153.0  0.7028        1.9879     0.4278       0.7005   \n",
       "4       0.9657      82929.0  0.7459        2.1245     0.6425       0.6803   \n",
       "...        ...          ...     ...           ...        ...          ...   \n",
       "2143    0.9823      87536.0  0.6799        1.7855     0.8070       0.7446   \n",
       "2144    0.8886      96439.0  0.6590        1.5770     0.1988       0.7509   \n",
       "2145    0.9888     102286.0  0.7584        1.7514     0.8061       0.7551   \n",
       "2146    0.9902      98376.0  0.7635        1.6468     0.8569       0.7788   \n",
       "2147    0.8662      90591.0  0.6123        1.7249     0.1775       0.7088   \n",
       "\n",
       "      SHAPEFACTOR_1  SHAPEFACTOR_2  SHAPEFACTOR_3  SHAPEFACTOR_4  Class  \n",
       "0            0.0062         0.0037         0.5297         0.8734      0  \n",
       "1            0.0060         0.0034         0.5156         0.9024      0  \n",
       "2            0.0061         0.0030         0.4579         0.9391      0  \n",
       "3            0.0060         0.0030         0.4907         0.9755      0  \n",
       "4            0.0059         0.0028         0.4628         0.9833      0  \n",
       "...             ...            ...            ...            ...    ...  \n",
       "2143         0.0052         0.0029         0.5545         0.9900      1  \n",
       "2144         0.0051         0.0033         0.5639         0.8892      1  \n",
       "2145         0.0047         0.0027         0.5702         0.9987      1  \n",
       "2146         0.0046         0.0028         0.6066         0.9989      1  \n",
       "2147         0.0057         0.0033         0.5024         0.8667      1  \n",
       "\n",
       "[2148 rows x 17 columns]"
      ]
     },
     "execution_count": 2,
     "metadata": {},
     "output_type": "execute_result"
    }
   ],
   "source": [
    "df=pd.read_csv(\"Pistachio_16_Features_Dataset.csv\")\n",
    "df=df.dropna()\n",
    "df['AREA']=df['AREA'].astype(int)\n",
    "from sklearn.preprocessing import LabelEncoder\n",
    "lc=LabelEncoder()\n",
    "df['Class']=lc.fit_transform(df['Class'])\n",
    "df"
   ]
  },
  {
   "cell_type": "code",
   "execution_count": 3,
   "id": "e70648c9",
   "metadata": {},
   "outputs": [],
   "source": [
    "spark = SparkSession.builder.appName(\"PrincipalComponent\").getOrCreate()"
   ]
  },
  {
   "cell_type": "code",
   "execution_count": 4,
   "id": "27007456",
   "metadata": {},
   "outputs": [
    {
     "data": {
      "text/plain": [
       "DataFrame[AREA: bigint, PERIMETER: double, MAJOR_AXIS: double, MINOR_AXIS: double, ECCENTRICITY: double, EQDIASQ: double, SOLIDITY: double, CONVEX_AREA: double, EXTENT: double, ASPECT_RATIO: double, ROUNDNESS: double, COMPACTNESS: double, SHAPEFACTOR_1: double, SHAPEFACTOR_2: double, SHAPEFACTOR_3: double, SHAPEFACTOR_4: double, Class: bigint]"
      ]
     },
     "execution_count": 4,
     "metadata": {},
     "output_type": "execute_result"
    }
   ],
   "source": [
    "data1 = spark.createDataFrame(df)\n",
    "data1"
   ]
  },
  {
   "cell_type": "code",
   "execution_count": 5,
   "id": "15a06d31",
   "metadata": {},
   "outputs": [],
   "source": [
    "cl=list(df.columns[0:16])"
   ]
  },
  {
   "cell_type": "code",
   "execution_count": 6,
   "id": "926ab7a7",
   "metadata": {},
   "outputs": [],
   "source": [
    "from pyspark.ml.feature import VectorAssembler\n",
    "assembler = VectorAssembler(inputCols=cl,outputCol=\"features\")"
   ]
  },
  {
   "cell_type": "code",
   "execution_count": 7,
   "id": "5329dcef",
   "metadata": {},
   "outputs": [
    {
     "name": "stdout",
     "output_type": "stream",
     "text": [
      "+--------------------+-----+\n",
      "|            features|Class|\n",
      "+--------------------+-----+\n",
      "|[63391.0,1568.405...|    0|\n",
      "|[68358.0,1942.187...|    0|\n",
      "|[73589.0,1246.538...|    0|\n",
      "|[71106.0,1445.261...|    0|\n",
      "|[80087.0,1251.524...|    0|\n",
      "|[52268.0,1154.15,...|    0|\n",
      "|[71693.0,1463.932...|    0|\n",
      "|[62240.0,1898.45,...|    0|\n",
      "|[64319.0,2011.291...|    0|\n",
      "|[78115.0,1238.623...|    0|\n",
      "|[69391.0,1930.618...|    0|\n",
      "|[67309.0,2353.405...|    0|\n",
      "|[81656.0,1197.543...|    0|\n",
      "|[61725.0,1387.943...|    0|\n",
      "|[81583.0,1295.336...|    0|\n",
      "|[62862.0,1086.575...|    0|\n",
      "|[84537.0,1181.153...|    0|\n",
      "|[89306.0,1940.193...|    0|\n",
      "|[70220.0,1217.227...|    0|\n",
      "|[74843.0,1158.202...|    0|\n",
      "+--------------------+-----+\n",
      "only showing top 20 rows\n",
      "\n"
     ]
    }
   ],
   "source": [
    "d=assembler.transform(data1)\n",
    "d = d.select(['features','Class'])\n",
    "d.show()"
   ]
  },
  {
   "cell_type": "code",
   "execution_count": 8,
   "id": "eda1d8ef",
   "metadata": {},
   "outputs": [],
   "source": [
    "train,test=d.randomSplit([0.8,0.2],seed=42)"
   ]
  },
  {
   "cell_type": "code",
   "execution_count": 9,
   "id": "62e06a04",
   "metadata": {},
   "outputs": [
    {
     "name": "stdout",
     "output_type": "stream",
     "text": [
      "+--------------------+\n",
      "|      scaledFeatures|\n",
      "+--------------------+\n",
      "|[4.83099121255962...|\n",
      "|[5.20952339146173...|\n",
      "|[5.60817485669969...|\n",
      "|[5.41894687195761...|\n",
      "|[6.10338365446613...|\n",
      "+--------------------+\n",
      "only showing top 5 rows\n",
      "\n"
     ]
    }
   ],
   "source": [
    "from pyspark.ml.feature import StandardScaler\n",
    "  \n",
    "scaler = StandardScaler(inputCol=\"features\", \n",
    "                        outputCol=\"scaledFeatures\", \n",
    "                        withStd=True, \n",
    "                        withMean=False)\n",
    "scalerModel = scaler.fit(d)\n",
    "d= scalerModel.transform(d)\n",
    "  \n",
    "d.select('scaledFeatures').show(5)"
   ]
  },
  {
   "cell_type": "code",
   "execution_count": 10,
   "id": "646d9162",
   "metadata": {},
   "outputs": [],
   "source": [
    "from pyspark.ml.feature import PCA"
   ]
  },
  {
   "cell_type": "code",
   "execution_count": 11,
   "id": "e2806f1c",
   "metadata": {},
   "outputs": [
    {
     "data": {
      "text/plain": [
       "PCA_f3ea723c475d"
      ]
     },
     "execution_count": 11,
     "metadata": {},
     "output_type": "execute_result"
    }
   ],
   "source": [
    "pca = PCA(k=2, inputCol=\"features\")\n",
    "pca.setOutputCol(\"PCA\")"
   ]
  },
  {
   "cell_type": "code",
   "execution_count": 12,
   "id": "0aa27c4a",
   "metadata": {},
   "outputs": [],
   "source": [
    "model=pca.fit(d)"
   ]
  },
  {
   "cell_type": "code",
   "execution_count": 15,
   "id": "acbe7c35",
   "metadata": {},
   "outputs": [
    {
     "data": {
      "text/plain": [
       "DenseVector([-96572.9755, -6846.9647])"
      ]
     },
     "execution_count": 15,
     "metadata": {},
     "output_type": "execute_result"
    }
   ],
   "source": [
    "a=model.transform(d).collect()[0].PCA\n",
    "a"
   ]
  },
  {
   "cell_type": "code",
   "execution_count": 16,
   "id": "a7e9d6bd",
   "metadata": {},
   "outputs": [
    {
     "data": {
      "text/plain": [
       "DenseVector([0.9716, 0.0283])"
      ]
     },
     "execution_count": 16,
     "metadata": {},
     "output_type": "execute_result"
    }
   ],
   "source": [
    "model.explainedVariance"
   ]
  },
  {
   "cell_type": "code",
   "execution_count": null,
   "id": "e6aca2d6",
   "metadata": {},
   "outputs": [],
   "source": []
  }
 ],
 "metadata": {
  "kernelspec": {
   "display_name": "Python 3 (ipykernel)",
   "language": "python",
   "name": "python3"
  },
  "language_info": {
   "codemirror_mode": {
    "name": "ipython",
    "version": 3
   },
   "file_extension": ".py",
   "mimetype": "text/x-python",
   "name": "python",
   "nbconvert_exporter": "python",
   "pygments_lexer": "ipython3",
   "version": "3.10.9"
  }
 },
 "nbformat": 4,
 "nbformat_minor": 5
}
